{
 "cells": [
  {
   "attachments": {},
   "cell_type": "markdown",
   "id": "939806f6",
   "metadata": {},
   "source": []
  },
  {
   "cell_type": "markdown",
   "id": "12842c61",
   "metadata": {},
   "source": []
  },
  {
   "cell_type": "code",
   "execution_count": null,
   "id": "87563337",
   "metadata": {},
   "outputs": [],
   "source": []
  },
  {
   "cell_type": "markdown",
   "id": "6e89761b",
   "metadata": {},
   "source": []
  },
  {
   "attachments": {},
   "cell_type": "markdown",
   "id": "e4533c6c",
   "metadata": {},
   "source": [
    "The dataset used for this analysis is the San Francisco Crime Data from May 2017 to May 2018. The goal of this data story is to analyze the patterns of larceny and theft incidents in the city and identify any trends or changes over time.\n",
    "\n",
    "The first visualization is a time-series bar chart showing the monthly counts of larceny and theft incidents. The chart reveals a clear pattern of seasonality, with higher counts during the summer months and lower counts during the winter months. The highest counts of incidents occurred in August and September, while the lowest counts occurred in December and January. Overall, the chart shows that larceny and theft incidents were more common during the warmer months of the year.\n",
    "\n",
    "The second visualization is a map showing the locations of larceny and theft incidents in San Francisco. The map is color-coded by district, with darker shades indicating higher counts of incidents. The map reveals that the downtown and tourist areas of San Francisco have the highest counts of incidents, particularly in the Central, Southern, and Northern districts. This suggests that these areas may be more susceptible to larceny and theft incidents, possibly due to the high volume of foot traffic and tourist activity.\n",
    "\n",
    "The third visualization is an interactive scatter plot showing the relationship between the day of the week and the time of day of larceny and theft incidents. The plot allows the user to filter the data by district and incident category. The plot reveals some interesting patterns, such as a peak in incidents during the late afternoon and early evening hours, and a lower frequency of incidents during the early morning hours. There is also a clear difference in patterns between weekdays and weekends, with higher counts of incidents on Fridays and Saturdays. These patterns may be useful for law enforcement agencies and businesses to better target their crime prevention efforts.\n",
    "\n",
    "In conclusion, the analysis of the San Francisco Crime Data from May 2017 to May 2018 reveals some interesting patterns and trends in larceny and theft incidents. The data suggests that these types of incidents are more common during the summer months, particularly in the downtown and tourist areas of the city. The interactive scatter plot also shows some interesting patterns in the day of the week and time of day of incidents, which may be useful for crime prevention efforts."
   ]
  }
 ],
 "metadata": {
  "kernelspec": {
   "display_name": "Python 3 (ipykernel)",
   "language": "python",
   "name": "python3"
  },
  "language_info": {
   "codemirror_mode": {
    "name": "ipython",
    "version": 3
   },
   "file_extension": ".py",
   "mimetype": "text/x-python",
   "name": "python",
   "nbconvert_exporter": "python",
   "pygments_lexer": "ipython3",
   "version": "3.11.2"
  }
 },
 "nbformat": 4,
 "nbformat_minor": 5
}
