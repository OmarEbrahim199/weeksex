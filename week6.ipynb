{
 "cells": [
  {
   "attachments": {},
   "cell_type": "markdown",
   "metadata": {},
   "source": [
    "## Part 2"
   ]
  },
  {
   "attachments": {},
   "cell_type": "markdown",
   "metadata": {},
   "source": [
    "1. If you haven't installed it yet please do so. You can simply follow these steps\n",
    "2. To include Bokeh in your notebooks you can follow the Bokeh: Using with Jupyter guide. Come back to this one when you need it.\n",
    "3. We aim to give you a gentle start with Bokeh and I am going to include more example code than usual in the follwing.\n",
    "\n"
   ]
  },
  {
   "cell_type": "code",
   "execution_count": 42,
   "metadata": {},
   "outputs": [
    {
     "data": {
      "text/html": [
       "\n",
       "  <div class=\"bk-root\" id=\"b25e5325-9ca5-413f-82a3-92ac644664b4\" data-root-id=\"2911\"></div>\n"
      ]
     },
     "metadata": {},
     "output_type": "display_data"
    },
    {
     "data": {
      "application/javascript": "(function(root) {\n  function embed_document(root) {\n  const docs_json = {\"bb54e716-658a-4c81-bfa1-f5586b759909\":{\"defs\":[],\"roots\":{\"references\":[{\"attributes\":{\"below\":[{\"id\":\"2920\"}],\"center\":[{\"id\":\"2923\"},{\"id\":\"2927\"}],\"left\":[{\"id\":\"2924\"}],\"renderers\":[{\"id\":\"2946\"}],\"title\":{\"id\":\"2991\"},\"toolbar\":{\"id\":\"2935\"},\"x_range\":{\"id\":\"2912\"},\"x_scale\":{\"id\":\"2916\"},\"y_range\":{\"id\":\"2914\"},\"y_scale\":{\"id\":\"2918\"}},\"id\":\"2911\",\"subtype\":\"Figure\",\"type\":\"Plot\"},{\"attributes\":{},\"id\":\"2925\",\"type\":\"BasicTicker\"},{\"attributes\":{},\"id\":\"2929\",\"type\":\"WheelZoomTool\"},{\"attributes\":{},\"id\":\"2997\",\"type\":\"BasicTickFormatter\"},{\"attributes\":{\"line_color\":\"#1f77b4\",\"x\":{\"field\":\"x\"},\"y\":{\"field\":\"y\"}},\"id\":\"2943\",\"type\":\"Line\"},{\"attributes\":{\"overlay\":{\"id\":\"2934\"}},\"id\":\"2930\",\"type\":\"BoxZoomTool\"},{\"attributes\":{\"line_alpha\":0.2,\"line_color\":\"#1f77b4\",\"x\":{\"field\":\"x\"},\"y\":{\"field\":\"y\"}},\"id\":\"2945\",\"type\":\"Line\"},{\"attributes\":{\"source\":{\"id\":\"2942\"}},\"id\":\"2947\",\"type\":\"CDSView\"},{\"attributes\":{},\"id\":\"2998\",\"type\":\"AllLabels\"},{\"attributes\":{\"axis\":{\"id\":\"2920\"},\"coordinates\":null,\"group\":null,\"ticker\":null},\"id\":\"2923\",\"type\":\"Grid\"},{\"attributes\":{\"coordinates\":null,\"formatter\":{\"id\":\"2997\"},\"group\":null,\"major_label_policy\":{\"id\":\"2998\"},\"ticker\":{\"id\":\"2921\"}},\"id\":\"2920\",\"type\":\"LinearAxis\"},{\"attributes\":{},\"id\":\"2916\",\"type\":\"LinearScale\"},{\"attributes\":{\"line_alpha\":0.1,\"line_color\":\"#1f77b4\",\"x\":{\"field\":\"x\"},\"y\":{\"field\":\"y\"}},\"id\":\"2944\",\"type\":\"Line\"},{\"attributes\":{},\"id\":\"2918\",\"type\":\"LinearScale\"},{\"attributes\":{\"data\":{\"x\":[1,2,3],\"y\":[4,6,2]},\"selected\":{\"id\":\"3000\"},\"selection_policy\":{\"id\":\"2999\"}},\"id\":\"2942\",\"type\":\"ColumnDataSource\"},{\"attributes\":{},\"id\":\"2999\",\"type\":\"UnionRenderers\"},{\"attributes\":{},\"id\":\"3000\",\"type\":\"Selection\"},{\"attributes\":{\"coordinates\":null,\"group\":null},\"id\":\"2991\",\"type\":\"Title\"},{\"attributes\":{},\"id\":\"2912\",\"type\":\"DataRange1d\"},{\"attributes\":{\"coordinates\":null,\"formatter\":{\"id\":\"2994\"},\"group\":null,\"major_label_policy\":{\"id\":\"2995\"},\"ticker\":{\"id\":\"2925\"}},\"id\":\"2924\",\"type\":\"LinearAxis\"},{\"attributes\":{},\"id\":\"2933\",\"type\":\"HelpTool\"},{\"attributes\":{},\"id\":\"2932\",\"type\":\"ResetTool\"},{\"attributes\":{\"tools\":[{\"id\":\"2928\"},{\"id\":\"2929\"},{\"id\":\"2930\"},{\"id\":\"2931\"},{\"id\":\"2932\"},{\"id\":\"2933\"}]},\"id\":\"2935\",\"type\":\"Toolbar\"},{\"attributes\":{},\"id\":\"2931\",\"type\":\"SaveTool\"},{\"attributes\":{\"coordinates\":null,\"data_source\":{\"id\":\"2942\"},\"glyph\":{\"id\":\"2943\"},\"group\":null,\"hover_glyph\":null,\"muted_glyph\":{\"id\":\"2945\"},\"nonselection_glyph\":{\"id\":\"2944\"},\"view\":{\"id\":\"2947\"}},\"id\":\"2946\",\"type\":\"GlyphRenderer\"},{\"attributes\":{\"axis\":{\"id\":\"2924\"},\"coordinates\":null,\"dimension\":1,\"group\":null,\"ticker\":null},\"id\":\"2927\",\"type\":\"Grid\"},{\"attributes\":{},\"id\":\"2994\",\"type\":\"BasicTickFormatter\"},{\"attributes\":{},\"id\":\"2914\",\"type\":\"DataRange1d\"},{\"attributes\":{},\"id\":\"2921\",\"type\":\"BasicTicker\"},{\"attributes\":{\"bottom_units\":\"screen\",\"coordinates\":null,\"fill_alpha\":0.5,\"fill_color\":\"lightgrey\",\"group\":null,\"left_units\":\"screen\",\"level\":\"overlay\",\"line_alpha\":1.0,\"line_color\":\"black\",\"line_dash\":[4,4],\"line_width\":2,\"right_units\":\"screen\",\"syncable\":false,\"top_units\":\"screen\"},\"id\":\"2934\",\"type\":\"BoxAnnotation\"},{\"attributes\":{},\"id\":\"2995\",\"type\":\"AllLabels\"},{\"attributes\":{},\"id\":\"2928\",\"type\":\"PanTool\"}],\"root_ids\":[\"2911\"]},\"title\":\"Bokeh Application\",\"version\":\"2.4.3\"}};\n  const render_items = [{\"docid\":\"bb54e716-658a-4c81-bfa1-f5586b759909\",\"root_ids\":[\"2911\"],\"roots\":{\"2911\":\"b25e5325-9ca5-413f-82a3-92ac644664b4\"}}];\n  root.Bokeh.embed.embed_items_notebook(docs_json, render_items);\n  }\n  if (root.Bokeh !== undefined) {\n    embed_document(root);\n  } else {\n    let attempts = 0;\n    const timer = setInterval(function(root) {\n      if (root.Bokeh !== undefined) {\n        clearInterval(timer);\n        embed_document(root);\n      } else {\n        attempts++;\n        if (attempts > 100) {\n          clearInterval(timer);\n          console.log(\"Bokeh: ERROR: Unable to run BokehJS code because BokehJS library is missing\");\n        }\n      }\n    }, 10, root)\n  }\n})(window);",
      "application/vnd.bokehjs_exec.v0+json": ""
     },
     "metadata": {
      "application/vnd.bokehjs_exec.v0+json": {
       "id": "2911"
      }
     },
     "output_type": "display_data"
    }
   ],
   "source": [
    "from bokeh.plotting import figure, output_file, show\n",
    "\n",
    "output_file(\"output.html\")\n",
    "\n",
    "p = figure()\n",
    "p.line(x=[1, 2, 3], y=[4,6,2])\n",
    "\n",
    "show(p)"
   ]
  },
  {
   "cell_type": "code",
   "execution_count": 43,
   "metadata": {},
   "outputs": [
    {
     "data": {
      "text/html": [
       "\n",
       "  <div class=\"bk-root\" id=\"0769b6b2-659d-4b81-a4b8-084941efbc45\" data-root-id=\"3212\"></div>\n"
      ]
     },
     "metadata": {},
     "output_type": "display_data"
    },
    {
     "data": {
      "application/javascript": "(function(root) {\n  function embed_document(root) {\n  const docs_json = {\"6c540405-97ab-41bc-a36e-a18471c32659\":{\"defs\":[],\"roots\":{\"references\":[{\"attributes\":{\"below\":[{\"id\":\"3221\"}],\"center\":[{\"id\":\"3224\"},{\"id\":\"3228\"}],\"height\":300,\"left\":[{\"id\":\"3225\"}],\"renderers\":[{\"id\":\"3240\"}],\"title\":{\"id\":\"3296\"},\"toolbar\":{\"id\":\"3232\"},\"width\":300,\"x_range\":{\"id\":\"3213\"},\"x_scale\":{\"id\":\"3217\"},\"y_range\":{\"id\":\"3215\"},\"y_scale\":{\"id\":\"3219\"}},\"id\":\"3212\",\"subtype\":\"Figure\",\"type\":\"Plot\"},{\"attributes\":{\"fill_alpha\":{\"value\":0.2},\"fill_color\":{\"value\":\"#1f77b4\"},\"hatch_alpha\":{\"value\":0.2},\"line_alpha\":{\"value\":0.2},\"line_color\":{\"value\":\"#1f77b4\"},\"radius\":{\"value\":0.3},\"x\":{\"field\":\"x\"},\"y\":{\"field\":\"y\"}},\"id\":\"3239\",\"type\":\"Circle\"},{\"attributes\":{\"axis\":{\"id\":\"3225\"},\"coordinates\":null,\"dimension\":1,\"group\":null,\"ticker\":null},\"id\":\"3228\",\"type\":\"Grid\"},{\"attributes\":{\"coordinates\":null,\"group\":null},\"id\":\"3296\",\"type\":\"Title\"},{\"attributes\":{},\"id\":\"3230\",\"type\":\"ResetTool\"},{\"attributes\":{},\"id\":\"3229\",\"type\":\"PanTool\"},{\"attributes\":{\"coordinates\":null,\"data_source\":{\"id\":\"3236\"},\"glyph\":{\"id\":\"3237\"},\"group\":null,\"hover_glyph\":null,\"muted_glyph\":{\"id\":\"3239\"},\"nonselection_glyph\":{\"id\":\"3238\"},\"view\":{\"id\":\"3241\"}},\"id\":\"3240\",\"type\":\"GlyphRenderer\"},{\"attributes\":{},\"id\":\"3231\",\"type\":\"SaveTool\"},{\"attributes\":{},\"id\":\"3299\",\"type\":\"BasicTickFormatter\"},{\"attributes\":{},\"id\":\"3226\",\"type\":\"BasicTicker\"},{\"attributes\":{},\"id\":\"3300\",\"type\":\"AllLabels\"},{\"attributes\":{\"coordinates\":null,\"formatter\":{\"id\":\"3299\"},\"group\":null,\"major_label_policy\":{\"id\":\"3300\"},\"ticker\":{\"id\":\"3226\"}},\"id\":\"3225\",\"type\":\"LinearAxis\"},{\"attributes\":{\"tools\":[{\"id\":\"3229\"},{\"id\":\"3230\"},{\"id\":\"3231\"}]},\"id\":\"3232\",\"type\":\"Toolbar\"},{\"attributes\":{},\"id\":\"3302\",\"type\":\"BasicTickFormatter\"},{\"attributes\":{},\"id\":\"3213\",\"type\":\"DataRange1d\"},{\"attributes\":{\"data\":{\"x\":[1,2.5,3,2],\"y\":[2,3,1,1.5]},\"selected\":{\"id\":\"3305\"},\"selection_policy\":{\"id\":\"3304\"}},\"id\":\"3236\",\"type\":\"ColumnDataSource\"},{\"attributes\":{},\"id\":\"3303\",\"type\":\"AllLabels\"},{\"attributes\":{\"fill_alpha\":{\"value\":0.5},\"fill_color\":{\"value\":\"#1f77b4\"},\"hatch_alpha\":{\"value\":0.5},\"line_alpha\":{\"value\":0.5},\"line_color\":{\"value\":\"#1f77b4\"},\"radius\":{\"value\":0.3},\"x\":{\"field\":\"x\"},\"y\":{\"field\":\"y\"}},\"id\":\"3237\",\"type\":\"Circle\"},{\"attributes\":{\"fill_alpha\":{\"value\":0.1},\"fill_color\":{\"value\":\"#1f77b4\"},\"hatch_alpha\":{\"value\":0.1},\"line_alpha\":{\"value\":0.1},\"line_color\":{\"value\":\"#1f77b4\"},\"radius\":{\"value\":0.3},\"x\":{\"field\":\"x\"},\"y\":{\"field\":\"y\"}},\"id\":\"3238\",\"type\":\"Circle\"},{\"attributes\":{\"coordinates\":null,\"formatter\":{\"id\":\"3302\"},\"group\":null,\"major_label_policy\":{\"id\":\"3303\"},\"ticker\":{\"id\":\"3222\"}},\"id\":\"3221\",\"type\":\"LinearAxis\"},{\"attributes\":{},\"id\":\"3217\",\"type\":\"LinearScale\"},{\"attributes\":{},\"id\":\"3305\",\"type\":\"Selection\"},{\"attributes\":{},\"id\":\"3222\",\"type\":\"BasicTicker\"},{\"attributes\":{},\"id\":\"3215\",\"type\":\"DataRange1d\"},{\"attributes\":{},\"id\":\"3219\",\"type\":\"LinearScale\"},{\"attributes\":{\"axis\":{\"id\":\"3221\"},\"coordinates\":null,\"group\":null,\"ticker\":null},\"id\":\"3224\",\"type\":\"Grid\"},{\"attributes\":{},\"id\":\"3304\",\"type\":\"UnionRenderers\"},{\"attributes\":{\"source\":{\"id\":\"3236\"}},\"id\":\"3241\",\"type\":\"CDSView\"}],\"root_ids\":[\"3212\"]},\"title\":\"Bokeh Application\",\"version\":\"2.4.3\"}};\n  const render_items = [{\"docid\":\"6c540405-97ab-41bc-a36e-a18471c32659\",\"root_ids\":[\"3212\"],\"roots\":{\"3212\":\"0769b6b2-659d-4b81-a4b8-084941efbc45\"}}];\n  root.Bokeh.embed.embed_items_notebook(docs_json, render_items);\n  }\n  if (root.Bokeh !== undefined) {\n    embed_document(root);\n  } else {\n    let attempts = 0;\n    const timer = setInterval(function(root) {\n      if (root.Bokeh !== undefined) {\n        clearInterval(timer);\n        embed_document(root);\n      } else {\n        attempts++;\n        if (attempts > 100) {\n          clearInterval(timer);\n          console.log(\"Bokeh: ERROR: Unable to run BokehJS code because BokehJS library is missing\");\n        }\n      }\n    }, 10, root)\n  }\n})(window);",
      "application/vnd.bokehjs_exec.v0+json": ""
     },
     "metadata": {
      "application/vnd.bokehjs_exec.v0+json": {
       "id": "3212"
      }
     },
     "output_type": "display_data"
    }
   ],
   "source": [
    "from bokeh.plotting import figure, output_file, show\n",
    "\n",
    "# create a figure object\n",
    "p = figure(width=300, height=300, tools=\"pan,reset,save\")\n",
    "\n",
    "# add a Circle renderer to this figure\n",
    "p.circle([1, 2.5, 3, 2], [2, 3, 1, 1.5], radius=0.3, alpha=0.5)\n",
    "\n",
    "# specify how to output the plot(s)\n",
    "output_file(\"foo.html\")\n",
    "\n",
    "# display the figure\n",
    "show(p)"
   ]
  },
  {
   "cell_type": "code",
   "execution_count": 44,
   "metadata": {},
   "outputs": [
    {
     "data": {
      "text/html": [
       "\n",
       "  <div class=\"bk-root\" id=\"448d8f8e-5b6e-47cf-a1fe-f5b642fe65ba\" data-root-id=\"3497\"></div>\n"
      ]
     },
     "metadata": {},
     "output_type": "display_data"
    },
    {
     "data": {
      "application/javascript": "(function(root) {\n  function embed_document(root) {\n  const docs_json = {\"d1bf09ca-ffe2-496e-9027-89e178dac374\":{\"defs\":[],\"roots\":{\"references\":[{\"attributes\":{\"below\":[{\"id\":\"3506\"}],\"center\":[{\"id\":\"3509\"},{\"id\":\"3513\"}],\"height\":400,\"left\":[{\"id\":\"3510\"}],\"renderers\":[{\"id\":\"3532\"}],\"title\":{\"id\":\"3598\"},\"toolbar\":{\"id\":\"3521\"},\"width\":400,\"x_range\":{\"id\":\"3498\"},\"x_scale\":{\"id\":\"3502\"},\"y_range\":{\"id\":\"3500\"},\"y_scale\":{\"id\":\"3504\"}},\"id\":\"3497\",\"subtype\":\"Figure\",\"type\":\"Plot\"},{\"attributes\":{\"coordinates\":null,\"formatter\":{\"id\":\"3604\"},\"group\":null,\"major_label_policy\":{\"id\":\"3605\"},\"ticker\":{\"id\":\"3507\"}},\"id\":\"3506\",\"type\":\"LinearAxis\"},{\"attributes\":{\"fill_alpha\":{\"value\":0.2},\"fill_color\":{\"value\":\"olive\"},\"hatch_alpha\":{\"value\":0.2},\"hatch_color\":{\"value\":\"olive\"},\"line_alpha\":{\"value\":0.2},\"line_color\":{\"value\":\"olive\"},\"marker\":{\"value\":\"diamond_dot\"},\"size\":{\"value\":20},\"x\":{\"field\":\"x\"},\"y\":{\"field\":\"y\"}},\"id\":\"3531\",\"type\":\"Scatter\"},{\"attributes\":{\"overlay\":{\"id\":\"3520\"}},\"id\":\"3516\",\"type\":\"BoxZoomTool\"},{\"attributes\":{\"fill_alpha\":{\"value\":0.5},\"fill_color\":{\"value\":\"olive\"},\"hatch_alpha\":{\"value\":0.5},\"hatch_color\":{\"value\":\"olive\"},\"line_alpha\":{\"value\":0.5},\"line_color\":{\"value\":\"olive\"},\"marker\":{\"value\":\"diamond_dot\"},\"size\":{\"value\":20},\"x\":{\"field\":\"x\"},\"y\":{\"field\":\"y\"}},\"id\":\"3529\",\"type\":\"Scatter\"},{\"attributes\":{},\"id\":\"3517\",\"type\":\"SaveTool\"},{\"attributes\":{},\"id\":\"3602\",\"type\":\"AllLabels\"},{\"attributes\":{},\"id\":\"3518\",\"type\":\"ResetTool\"},{\"attributes\":{},\"id\":\"3604\",\"type\":\"BasicTickFormatter\"},{\"attributes\":{\"data\":{\"x\":[1,2,3,4,5],\"y\":[6,7,2,4,5]},\"selected\":{\"id\":\"3607\"},\"selection_policy\":{\"id\":\"3606\"}},\"id\":\"3528\",\"type\":\"ColumnDataSource\"},{\"attributes\":{},\"id\":\"3605\",\"type\":\"AllLabels\"},{\"attributes\":{},\"id\":\"3498\",\"type\":\"DataRange1d\"},{\"attributes\":{},\"id\":\"3514\",\"type\":\"PanTool\"},{\"attributes\":{},\"id\":\"3515\",\"type\":\"WheelZoomTool\"},{\"attributes\":{\"axis\":{\"id\":\"3510\"},\"coordinates\":null,\"dimension\":1,\"group\":null,\"ticker\":null},\"id\":\"3513\",\"type\":\"Grid\"},{\"attributes\":{},\"id\":\"3511\",\"type\":\"BasicTicker\"},{\"attributes\":{\"tools\":[{\"id\":\"3514\"},{\"id\":\"3515\"},{\"id\":\"3516\"},{\"id\":\"3517\"},{\"id\":\"3518\"},{\"id\":\"3519\"}]},\"id\":\"3521\",\"type\":\"Toolbar\"},{\"attributes\":{},\"id\":\"3606\",\"type\":\"UnionRenderers\"},{\"attributes\":{\"axis\":{\"id\":\"3506\"},\"coordinates\":null,\"group\":null,\"ticker\":null},\"id\":\"3509\",\"type\":\"Grid\"},{\"attributes\":{},\"id\":\"3507\",\"type\":\"BasicTicker\"},{\"attributes\":{},\"id\":\"3519\",\"type\":\"HelpTool\"},{\"attributes\":{},\"id\":\"3607\",\"type\":\"Selection\"},{\"attributes\":{},\"id\":\"3504\",\"type\":\"LinearScale\"},{\"attributes\":{\"bottom_units\":\"screen\",\"coordinates\":null,\"fill_alpha\":0.5,\"fill_color\":\"lightgrey\",\"group\":null,\"left_units\":\"screen\",\"level\":\"overlay\",\"line_alpha\":1.0,\"line_color\":\"black\",\"line_dash\":[4,4],\"line_width\":2,\"right_units\":\"screen\",\"syncable\":false,\"top_units\":\"screen\"},\"id\":\"3520\",\"type\":\"BoxAnnotation\"},{\"attributes\":{},\"id\":\"3500\",\"type\":\"DataRange1d\"},{\"attributes\":{\"coordinates\":null,\"formatter\":{\"id\":\"3601\"},\"group\":null,\"major_label_policy\":{\"id\":\"3602\"},\"ticker\":{\"id\":\"3511\"}},\"id\":\"3510\",\"type\":\"LinearAxis\"},{\"attributes\":{\"coordinates\":null,\"data_source\":{\"id\":\"3528\"},\"glyph\":{\"id\":\"3529\"},\"group\":null,\"hover_glyph\":null,\"muted_glyph\":{\"id\":\"3531\"},\"nonselection_glyph\":{\"id\":\"3530\"},\"view\":{\"id\":\"3533\"}},\"id\":\"3532\",\"type\":\"GlyphRenderer\"},{\"attributes\":{\"fill_alpha\":{\"value\":0.1},\"fill_color\":{\"value\":\"olive\"},\"hatch_alpha\":{\"value\":0.1},\"hatch_color\":{\"value\":\"olive\"},\"line_alpha\":{\"value\":0.1},\"line_color\":{\"value\":\"olive\"},\"marker\":{\"value\":\"diamond_dot\"},\"size\":{\"value\":20},\"x\":{\"field\":\"x\"},\"y\":{\"field\":\"y\"}},\"id\":\"3530\",\"type\":\"Scatter\"},{\"attributes\":{},\"id\":\"3502\",\"type\":\"LinearScale\"},{\"attributes\":{\"coordinates\":null,\"group\":null},\"id\":\"3598\",\"type\":\"Title\"},{\"attributes\":{\"source\":{\"id\":\"3528\"}},\"id\":\"3533\",\"type\":\"CDSView\"},{\"attributes\":{},\"id\":\"3601\",\"type\":\"BasicTickFormatter\"}],\"root_ids\":[\"3497\"]},\"title\":\"Bokeh Application\",\"version\":\"2.4.3\"}};\n  const render_items = [{\"docid\":\"d1bf09ca-ffe2-496e-9027-89e178dac374\",\"root_ids\":[\"3497\"],\"roots\":{\"3497\":\"448d8f8e-5b6e-47cf-a1fe-f5b642fe65ba\"}}];\n  root.Bokeh.embed.embed_items_notebook(docs_json, render_items);\n  }\n  if (root.Bokeh !== undefined) {\n    embed_document(root);\n  } else {\n    let attempts = 0;\n    const timer = setInterval(function(root) {\n      if (root.Bokeh !== undefined) {\n        clearInterval(timer);\n        embed_document(root);\n      } else {\n        attempts++;\n        if (attempts > 100) {\n          clearInterval(timer);\n          console.log(\"Bokeh: ERROR: Unable to run BokehJS code because BokehJS library is missing\");\n        }\n      }\n    }, 10, root)\n  }\n})(window);",
      "application/vnd.bokehjs_exec.v0+json": ""
     },
     "metadata": {
      "application/vnd.bokehjs_exec.v0+json": {
       "id": "3497"
      }
     },
     "output_type": "display_data"
    }
   ],
   "source": [
    "from bokeh.plotting import figure, show\n",
    "\n",
    "p = figure(width=400, height=400)\n",
    "\n",
    "# add a square renderer with a size, color, and alpha\n",
    "p.diamond_dot([1, 2, 3, 4, 5], [6, 7, 2, 4, 5], size=20, color=\"olive\", alpha=0.5)\n",
    "\n",
    "# show the results\n",
    "show(p)"
   ]
  },
  {
   "cell_type": "code",
   "execution_count": 45,
   "metadata": {},
   "outputs": [
    {
     "name": "stderr",
     "output_type": "stream",
     "text": [
      "C:\\Users\\Omare\\AppData\\Local\\Temp\\ipykernel_121380\\3521060319.py:2: DtypeWarning: Columns (0) have mixed types. Specify dtype option on import or set low_memory=False.\n",
      "  df = pd.read_csv(\"../weeksex/Police_Department_Incident_Reports__Historical_2003_to_May_2018.csv\")\n"
     ]
    }
   ],
   "source": [
    "import pandas as pd \n",
    "df = pd.read_csv(\"../weeksex/Police_Department_Incident_Reports__Historical_2003_to_May_2018.csv\")\n",
    "#df = pd.read_csv(\"../../datasat.csv\")\n",
    "df['Date'] = pd.to_datetime(df['Date'])\n",
    "# slice the dataframe to get data between 2010 and 2017\n",
    "df = df[(df['Date'].dt.year >= 2010) & (df['Date'].dt.year <= 2017)]\n",
    "focuscrimes = set(['WEAPON LAWS', 'PROSTITUTION', 'DRIVING UNDER THE INFLUENCE', 'ROBBERY', 'BURGLARY', 'ASSAULT', 'DRUNKENNESS', 'DRUG/NARCOTIC', 'TRESPASS', 'LARCENY/THEFT', 'VANDALISM', 'VEHICLE THEFT', 'STOLEN PROPERTY', 'DISORDERLY CONDUCT'])\n",
    "df = df[df['Category'].isin(focuscrimes)]\n"
   ]
  },
  {
   "attachments": {},
   "cell_type": "markdown",
   "metadata": {},
   "source": [
    "#### Data prep\n",
    "1. Take the data for the period of 2010-2017 and group it by hour-of-the-day.\n"
   ]
  },
  {
   "cell_type": "code",
   "execution_count": 46,
   "metadata": {},
   "outputs": [],
   "source": [
    "df['HourOfDay'] = df['Time'].str.strip().str[0:2]\n"
   ]
  },
  {
   "cell_type": "code",
   "execution_count": 47,
   "metadata": {},
   "outputs": [],
   "source": [
    "# group the dataframe by \"Category\" and \"HourOfDay\", then calculate the count for each group\n",
    "crime_hourly_counts = df.groupby(['Category', 'HourOfDay']).size().reset_index(name='count')\n",
    "\n",
    "# calculate the total count for each crime category\n",
    "crime_category_counts = df.groupby(['Category']).size().reset_index(name='total_count')\n",
    "\n",
    "# merge the two dataframes to get the total count for each row\n",
    "crime_hourly_counts = pd.merge(crime_hourly_counts, crime_category_counts, on='Category')\n",
    "\n",
    "# calculate the hourly percentage of each crime type\n",
    "crime_hourly_counts['hourly_percentage'] = crime_hourly_counts['count'] / crime_hourly_counts['total_count']\n",
    "\n",
    "\n",
    "columns = ['Category', 'HourOfDay', 'hourly_percentage']\n",
    "focusData =  pd.DataFrame(crime_hourly_counts, columns=columns)\n",
    "\n",
    "#print(focusData)"
   ]
  },
  {
   "cell_type": "code",
   "execution_count": 48,
   "metadata": {},
   "outputs": [],
   "source": [
    "# Pivot the dataframe\n",
    "pivoted_focusData = focusData.pivot_table(index='HourOfDay', columns='Category', values='hourly_percentage')\n",
    "\n",
    "# Display the pivoted dataframe\n",
    "#print(pivoted_focusData)\n"
   ]
  },
  {
   "attachments": {},
   "cell_type": "markdown",
   "metadata": {},
   "source": [
    "1. First, let's convert our Pandas Dataframe to Bokeh ColumnDataSource:"
   ]
  },
  {
   "cell_type": "code",
   "execution_count": 49,
   "metadata": {},
   "outputs": [
    {
     "data": {
      "text/html": [
       "<div class=\"bk-root\">\n",
       "        <a href=\"https://bokeh.org\" target=\"_blank\" class=\"bk-logo bk-logo-small bk-logo-notebook\"></a>\n",
       "        <span id=\"3820\">Loading BokehJS ...</span>\n",
       "    </div>\n"
      ]
     },
     "metadata": {},
     "output_type": "display_data"
    },
    {
     "data": {
      "application/javascript": "(function(root) {\n  function now() {\n    return new Date();\n  }\n\n  const force = true;\n\n  if (typeof root._bokeh_onload_callbacks === \"undefined\" || force === true) {\n    root._bokeh_onload_callbacks = [];\n    root._bokeh_is_loading = undefined;\n  }\n\nconst JS_MIME_TYPE = 'application/javascript';\n  const HTML_MIME_TYPE = 'text/html';\n  const EXEC_MIME_TYPE = 'application/vnd.bokehjs_exec.v0+json';\n  const CLASS_NAME = 'output_bokeh rendered_html';\n\n  /**\n   * Render data to the DOM node\n   */\n  function render(props, node) {\n    const script = document.createElement(\"script\");\n    node.appendChild(script);\n  }\n\n  /**\n   * Handle when an output is cleared or removed\n   */\n  function handleClearOutput(event, handle) {\n    const cell = handle.cell;\n\n    const id = cell.output_area._bokeh_element_id;\n    const server_id = cell.output_area._bokeh_server_id;\n    // Clean up Bokeh references\n    if (id != null && id in Bokeh.index) {\n      Bokeh.index[id].model.document.clear();\n      delete Bokeh.index[id];\n    }\n\n    if (server_id !== undefined) {\n      // Clean up Bokeh references\n      const cmd_clean = \"from bokeh.io.state import curstate; print(curstate().uuid_to_server['\" + server_id + \"'].get_sessions()[0].document.roots[0]._id)\";\n      cell.notebook.kernel.execute(cmd_clean, {\n        iopub: {\n          output: function(msg) {\n            const id = msg.content.text.trim();\n            if (id in Bokeh.index) {\n              Bokeh.index[id].model.document.clear();\n              delete Bokeh.index[id];\n            }\n          }\n        }\n      });\n      // Destroy server and session\n      const cmd_destroy = \"import bokeh.io.notebook as ion; ion.destroy_server('\" + server_id + \"')\";\n      cell.notebook.kernel.execute(cmd_destroy);\n    }\n  }\n\n  /**\n   * Handle when a new output is added\n   */\n  function handleAddOutput(event, handle) {\n    const output_area = handle.output_area;\n    const output = handle.output;\n\n    // limit handleAddOutput to display_data with EXEC_MIME_TYPE content only\n    if ((output.output_type != \"display_data\") || (!Object.prototype.hasOwnProperty.call(output.data, EXEC_MIME_TYPE))) {\n      return\n    }\n\n    const toinsert = output_area.element.find(\".\" + CLASS_NAME.split(' ')[0]);\n\n    if (output.metadata[EXEC_MIME_TYPE][\"id\"] !== undefined) {\n      toinsert[toinsert.length - 1].firstChild.textContent = output.data[JS_MIME_TYPE];\n      // store reference to embed id on output_area\n      output_area._bokeh_element_id = output.metadata[EXEC_MIME_TYPE][\"id\"];\n    }\n    if (output.metadata[EXEC_MIME_TYPE][\"server_id\"] !== undefined) {\n      const bk_div = document.createElement(\"div\");\n      bk_div.innerHTML = output.data[HTML_MIME_TYPE];\n      const script_attrs = bk_div.children[0].attributes;\n      for (let i = 0; i < script_attrs.length; i++) {\n        toinsert[toinsert.length - 1].firstChild.setAttribute(script_attrs[i].name, script_attrs[i].value);\n        toinsert[toinsert.length - 1].firstChild.textContent = bk_div.children[0].textContent\n      }\n      // store reference to server id on output_area\n      output_area._bokeh_server_id = output.metadata[EXEC_MIME_TYPE][\"server_id\"];\n    }\n  }\n\n  function register_renderer(events, OutputArea) {\n\n    function append_mime(data, metadata, element) {\n      // create a DOM node to render to\n      const toinsert = this.create_output_subarea(\n        metadata,\n        CLASS_NAME,\n        EXEC_MIME_TYPE\n      );\n      this.keyboard_manager.register_events(toinsert);\n      // Render to node\n      const props = {data: data, metadata: metadata[EXEC_MIME_TYPE]};\n      render(props, toinsert[toinsert.length - 1]);\n      element.append(toinsert);\n      return toinsert\n    }\n\n    /* Handle when an output is cleared or removed */\n    events.on('clear_output.CodeCell', handleClearOutput);\n    events.on('delete.Cell', handleClearOutput);\n\n    /* Handle when a new output is added */\n    events.on('output_added.OutputArea', handleAddOutput);\n\n    /**\n     * Register the mime type and append_mime function with output_area\n     */\n    OutputArea.prototype.register_mime_type(EXEC_MIME_TYPE, append_mime, {\n      /* Is output safe? */\n      safe: true,\n      /* Index of renderer in `output_area.display_order` */\n      index: 0\n    });\n  }\n\n  // register the mime type if in Jupyter Notebook environment and previously unregistered\n  if (root.Jupyter !== undefined) {\n    const events = require('base/js/events');\n    const OutputArea = require('notebook/js/outputarea').OutputArea;\n\n    if (OutputArea.prototype.mime_types().indexOf(EXEC_MIME_TYPE) == -1) {\n      register_renderer(events, OutputArea);\n    }\n  }\n  if (typeof (root._bokeh_timeout) === \"undefined\" || force === true) {\n    root._bokeh_timeout = Date.now() + 5000;\n    root._bokeh_failed_load = false;\n  }\n\n  const NB_LOAD_WARNING = {'data': {'text/html':\n     \"<div style='background-color: #fdd'>\\n\"+\n     \"<p>\\n\"+\n     \"BokehJS does not appear to have successfully loaded. If loading BokehJS from CDN, this \\n\"+\n     \"may be due to a slow or bad network connection. Possible fixes:\\n\"+\n     \"</p>\\n\"+\n     \"<ul>\\n\"+\n     \"<li>re-rerun `output_notebook()` to attempt to load from CDN again, or</li>\\n\"+\n     \"<li>use INLINE resources instead, as so:</li>\\n\"+\n     \"</ul>\\n\"+\n     \"<code>\\n\"+\n     \"from bokeh.resources import INLINE\\n\"+\n     \"output_notebook(resources=INLINE)\\n\"+\n     \"</code>\\n\"+\n     \"</div>\"}};\n\n  function display_loaded() {\n    const el = document.getElementById(\"3820\");\n    if (el != null) {\n      el.textContent = \"BokehJS is loading...\";\n    }\n    if (root.Bokeh !== undefined) {\n      if (el != null) {\n        el.textContent = \"BokehJS \" + root.Bokeh.version + \" successfully loaded.\";\n      }\n    } else if (Date.now() < root._bokeh_timeout) {\n      setTimeout(display_loaded, 100)\n    }\n  }\n\n  function run_callbacks() {\n    try {\n      root._bokeh_onload_callbacks.forEach(function(callback) {\n        if (callback != null)\n          callback();\n      });\n    } finally {\n      delete root._bokeh_onload_callbacks\n    }\n    console.debug(\"Bokeh: all callbacks have finished\");\n  }\n\n  function load_libs(css_urls, js_urls, callback) {\n    if (css_urls == null) css_urls = [];\n    if (js_urls == null) js_urls = [];\n\n    root._bokeh_onload_callbacks.push(callback);\n    if (root._bokeh_is_loading > 0) {\n      console.debug(\"Bokeh: BokehJS is being loaded, scheduling callback at\", now());\n      return null;\n    }\n    if (js_urls == null || js_urls.length === 0) {\n      run_callbacks();\n      return null;\n    }\n    console.debug(\"Bokeh: BokehJS not loaded, scheduling load and callback at\", now());\n    root._bokeh_is_loading = css_urls.length + js_urls.length;\n\n    function on_load() {\n      root._bokeh_is_loading--;\n      if (root._bokeh_is_loading === 0) {\n        console.debug(\"Bokeh: all BokehJS libraries/stylesheets loaded\");\n        run_callbacks()\n      }\n    }\n\n    function on_error(url) {\n      console.error(\"failed to load \" + url);\n    }\n\n    for (let i = 0; i < css_urls.length; i++) {\n      const url = css_urls[i];\n      const element = document.createElement(\"link\");\n      element.onload = on_load;\n      element.onerror = on_error.bind(null, url);\n      element.rel = \"stylesheet\";\n      element.type = \"text/css\";\n      element.href = url;\n      console.debug(\"Bokeh: injecting link tag for BokehJS stylesheet: \", url);\n      document.body.appendChild(element);\n    }\n\n    for (let i = 0; i < js_urls.length; i++) {\n      const url = js_urls[i];\n      const element = document.createElement('script');\n      element.onload = on_load;\n      element.onerror = on_error.bind(null, url);\n      element.async = false;\n      element.src = url;\n      console.debug(\"Bokeh: injecting script tag for BokehJS library: \", url);\n      document.head.appendChild(element);\n    }\n  };\n\n  function inject_raw_css(css) {\n    const element = document.createElement(\"style\");\n    element.appendChild(document.createTextNode(css));\n    document.body.appendChild(element);\n  }\n\n  const js_urls = [\"https://cdn.bokeh.org/bokeh/release/bokeh-2.4.3.min.js\", \"https://cdn.bokeh.org/bokeh/release/bokeh-gl-2.4.3.min.js\", \"https://cdn.bokeh.org/bokeh/release/bokeh-widgets-2.4.3.min.js\", \"https://cdn.bokeh.org/bokeh/release/bokeh-tables-2.4.3.min.js\", \"https://cdn.bokeh.org/bokeh/release/bokeh-mathjax-2.4.3.min.js\"];\n  const css_urls = [];\n\n  const inline_js = [    function(Bokeh) {\n      Bokeh.set_log_level(\"info\");\n    },\nfunction(Bokeh) {\n    }\n  ];\n\n  function run_inline_js() {\n    if (root.Bokeh !== undefined || force === true) {\n          for (let i = 0; i < inline_js.length; i++) {\n      inline_js[i].call(root, root.Bokeh);\n    }\nif (force === true) {\n        display_loaded();\n      }} else if (Date.now() < root._bokeh_timeout) {\n      setTimeout(run_inline_js, 100);\n    } else if (!root._bokeh_failed_load) {\n      console.log(\"Bokeh: BokehJS failed to load within specified timeout.\");\n      root._bokeh_failed_load = true;\n    } else if (force !== true) {\n      const cell = $(document.getElementById(\"3820\")).parents('.cell').data().cell;\n      cell.output_area.append_execute_result(NB_LOAD_WARNING)\n    }\n  }\n\n  if (root._bokeh_is_loading === 0) {\n    console.debug(\"Bokeh: BokehJS loaded, going straight to plotting\");\n    run_inline_js();\n  } else {\n    load_libs(css_urls, js_urls, function() {\n      console.debug(\"Bokeh: BokehJS plotting callback run at\", now());\n      run_inline_js();\n    });\n  }\n}(window));",
      "application/vnd.bokehjs_load.v0+json": ""
     },
     "metadata": {},
     "output_type": "display_data"
    }
   ],
   "source": [
    "from bokeh.models import ColumnDataSource,Legend\n",
    "from bokeh.io import output_notebook, show\n",
    "from bokeh.palettes import Category10\n",
    "import seaborn as sns\n",
    "\n",
    "source = ColumnDataSource(data=pivoted_focusData)\n",
    "## it is a standard way to convert your df to bokeh\n",
    "output_notebook()\n"
   ]
  },
  {
   "attachments": {},
   "cell_type": "markdown",
   "metadata": {},
   "source": [
    "2. We also need to create an empty figure (we will add our stuff here later on). Mini sub-exercise: Find the a guide how to define a figure in Bokeh online. Here is a little help:"
   ]
  },
  {
   "cell_type": "code",
   "execution_count": 50,
   "metadata": {},
   "outputs": [],
   "source": [
    "# Define a figure with title and axis labels\n",
    "p = figure(x_range=source.data['HourOfDay'], title=\"Hourly Percentage by Category\",x_axis_label='Hour of the Day',width =1200)\n",
    "colo = sns.color_palette('viridis', len(source.data['HourOfDay'])).as_hex()"
   ]
  },
  {
   "attachments": {},
   "cell_type": "markdown",
   "metadata": {},
   "source": [
    "3. Now we are going to add the bars. In order to do so, we will use vbar (see the guide for help):"
   ]
  },
  {
   "cell_type": "code",
   "execution_count": 51,
   "metadata": {},
   "outputs": [],
   "source": [
    "bar ={} # to store vbars\n",
    "items=[]\n",
    "\n",
    "\n",
    "### here we will do a for loop:\n",
    "for indx,category  in enumerate(pivoted_focusData.columns):\n",
    "    bar[category] =p.vbar(x='HourOfDay', \n",
    "    top=category ,\n",
    "    source=source,\n",
    "    muted=True, \n",
    "    muted_alpha=0.05,\n",
    "    fill_alpha=1.9,\n",
    "    color=colo[indx],\n",
    "    width=0.7)\n",
    "    items.append((category, [bar[category]]))\n"
   ]
  },
  {
   "attachments": {},
   "cell_type": "markdown",
   "metadata": {},
   "source": [
    "4. The last thing to do is to make your legend interactive and display the figure:\n"
   ]
  },
  {
   "cell_type": "code",
   "execution_count": 52,
   "metadata": {},
   "outputs": [
    {
     "data": {
      "text/html": [
       "\n",
       "  <div class=\"bk-root\" id=\"95b43351-d3e4-420d-ba89-ebcbd3be07ef\" data-root-id=\"3821\"></div>\n"
      ]
     },
     "metadata": {},
     "output_type": "display_data"
    },
    {
     "data": {
      "application/javascript": "(function(root) {\n  function embed_document(root) {\n  const docs_json = {\"ec94fbe7-4a71-4c20-a1b3-889a9417eed1\":{\"defs\":[],\"roots\":{\"references\":[{\"attributes\":{\"below\":[{\"id\":\"3832\"}],\"center\":[{\"id\":\"3834\"},{\"id\":\"3838\"}],\"left\":[{\"id\":\"3835\"},{\"id\":\"3937\"}],\"renderers\":[{\"id\":\"3857\"},{\"id\":\"3863\"},{\"id\":\"3869\"},{\"id\":\"3875\"},{\"id\":\"3881\"},{\"id\":\"3887\"},{\"id\":\"3893\"},{\"id\":\"3899\"},{\"id\":\"3905\"},{\"id\":\"3911\"},{\"id\":\"3917\"},{\"id\":\"3923\"},{\"id\":\"3929\"},{\"id\":\"3935\"}],\"title\":{\"id\":\"3822\"},\"toolbar\":{\"id\":\"3846\"},\"width\":1200,\"x_range\":{\"id\":\"3824\"},\"x_scale\":{\"id\":\"3828\"},\"y_range\":{\"id\":\"3826\"},\"y_scale\":{\"id\":\"3830\"}},\"id\":\"3821\",\"subtype\":\"Figure\",\"type\":\"Plot\"},{\"attributes\":{\"fill_alpha\":{\"value\":0.05},\"fill_color\":{\"value\":\"#453781\"},\"hatch_alpha\":{\"value\":0.05},\"hatch_color\":{\"value\":\"#453781\"},\"line_alpha\":{\"value\":0.05},\"line_color\":{\"value\":\"#453781\"},\"top\":{\"field\":\"DRIVING UNDER THE INFLUENCE\"},\"width\":{\"value\":0.7},\"x\":{\"field\":\"HourOfDay\"}},\"id\":\"3874\",\"type\":\"VBar\"},{\"attributes\":{\"source\":{\"id\":\"3819\"}},\"id\":\"3888\",\"type\":\"CDSView\"},{\"attributes\":{\"fill_alpha\":{\"value\":0.1},\"fill_color\":{\"value\":\"#2e6f8e\"},\"hatch_alpha\":{\"value\":0.1},\"hatch_color\":{\"value\":\"#2e6f8e\"},\"line_alpha\":{\"value\":0.1},\"line_color\":{\"value\":\"#2e6f8e\"},\"top\":{\"field\":\"ROBBERY\"},\"width\":{\"value\":0.7},\"x\":{\"field\":\"HourOfDay\"}},\"id\":\"3903\",\"type\":\"VBar\"},{\"attributes\":{\"fill_alpha\":{\"value\":0.1},\"fill_color\":{\"value\":\"#375a8c\"},\"hatch_alpha\":{\"value\":0.1},\"hatch_color\":{\"value\":\"#375a8c\"},\"line_alpha\":{\"value\":0.1},\"line_color\":{\"value\":\"#375a8c\"},\"top\":{\"field\":\"LARCENY/THEFT\"},\"width\":{\"value\":0.7},\"x\":{\"field\":\"HourOfDay\"}},\"id\":\"3891\",\"type\":\"VBar\"},{\"attributes\":{\"fill_alpha\":{\"value\":0.05},\"fill_color\":{\"value\":\"#2e6f8e\"},\"hatch_alpha\":{\"value\":0.05},\"hatch_color\":{\"value\":\"#2e6f8e\"},\"line_alpha\":{\"value\":0.05},\"line_color\":{\"value\":\"#2e6f8e\"},\"top\":{\"field\":\"ROBBERY\"},\"width\":{\"value\":0.7},\"x\":{\"field\":\"HourOfDay\"}},\"id\":\"3904\",\"type\":\"VBar\"},{\"attributes\":{\"fill_alpha\":{\"value\":1.9},\"fill_color\":{\"value\":\"#375a8c\"},\"hatch_color\":{\"value\":\"#375a8c\"},\"line_color\":{\"value\":\"#375a8c\"},\"top\":{\"field\":\"LARCENY/THEFT\"},\"width\":{\"value\":0.7},\"x\":{\"field\":\"HourOfDay\"}},\"id\":\"3890\",\"type\":\"VBar\"},{\"attributes\":{\"coordinates\":null,\"data_source\":{\"id\":\"3819\"},\"glyph\":{\"id\":\"3872\"},\"group\":null,\"hover_glyph\":null,\"muted\":true,\"muted_glyph\":{\"id\":\"3874\"},\"nonselection_glyph\":{\"id\":\"3873\"},\"view\":{\"id\":\"3876\"}},\"id\":\"3875\",\"type\":\"GlyphRenderer\"},{\"attributes\":{\"coordinates\":null,\"data_source\":{\"id\":\"3819\"},\"glyph\":{\"id\":\"3878\"},\"group\":null,\"hover_glyph\":null,\"muted\":true,\"muted_glyph\":{\"id\":\"3880\"},\"nonselection_glyph\":{\"id\":\"3879\"},\"view\":{\"id\":\"3882\"}},\"id\":\"3881\",\"type\":\"GlyphRenderer\"},{\"attributes\":{\"data\":{\"ASSAULT\":{\"__ndarray__\":\"6eDyYGCirj8JperERnCsP/U2Xrm4H6k/ljJYx/SElz9zW2ty66CMPy3OT+gLSIU/OflljGQxiz9PAUygnUSUP/Z+P/On7qA/apXCjXHBoT+G9EwyeYWkP0e+1Tho3aY/TrlqZq51rD/TVdrP4haoP+Wm2lWBLKg/mE/kTOS/qj8MuN+1aYapP1wsYkT2Lao/YVzjugh/qj/LZNw2aaOoP3ue4dkgCKo/P3tf0TJ2qT9xPt/s+2WpP+cV36ksW6k/\",\"dtype\":\"float64\",\"order\":\"little\",\"shape\":[24]},\"BURGLARY\":{\"__ndarray__\":\"JB8YBCFvoj+K/RF0MbyZP9ZoatRsPJw/N/EoSle4nD/MJXYmGV2YP6zFG2MWgpY/l6i1TWeGmD+Wi1vx/U2hP3yeloSKfK0/1xxC6t2xqT+ojDrFWemmP0s9Xe0rBqY/RJzMI42Cqz9mR3y2CBChP6HOT59RLaU/vPXIxJdvpz+ONvMR7lSpPxCQdY+bo7A/LWvGylJbsD838ShKV7isP4M/J04pAKg/M5vtTzHnpT/ALqpiVAinP3CKcGRc76Q/\",\"dtype\":\"float64\",\"order\":\"little\",\"shape\":[24]},\"DISORDERLY CONDUCT\":{\"__ndarray__\":\"+AsqxC0rqz9BVLlaYTqpP/qIH1NiYKQ/Hy1nHvxnkz9QXXEtyRySPzdF7KViwrI/VqNSz2LzwT/CEjSi+9S1PxAkr0uUhao/UF1xLckcoj9kewuXxgyfP1zpM3H8yaE/jRk+gMl+oD+VqxWmk8GtP8bbH7Vgdpw/+AsqxC0rmz/f86Q8x9CbP5WrFaaTwZ0/gY17PJbRoD+uw5ot+hudP2h19rQvd5E/lasVppPBjT9odfa0L3ehP8lYFUSVq6U/\",\"dtype\":\"float64\",\"order\":\"little\",\"shape\":[24]},\"DRIVING UNDER THE INFLUENCE\":{\"__ndarray__\":\"U00ed5awuz+SJEmSJEnCP5qZmZmZmbk/BIxSTR53pj/Wh8b60FiPPzkFL6fg5YQ/q2w4YtoTiT/InSXs5reAP6tsOGLaE3k/8rizhN38hj85BS+n4OV0P6tsOGLaE2k/yJ0l7Oa3gD+rbDhi2hOJPzkFL6fg5YQ/8rizhN38hj+IxvrQWB+aP5IkSZIkSaI/KDKQ3p9rpT8WX/EVX/GlPz801ofG+rA/L6fg5RS8rD+9P9cqG464PxW8nIKXU8A/\",\"dtype\":\"float64\",\"order\":\"little\",\"shape\":[24]},\"DRUG/NARCOTIC\":{\"__ndarray__\":\"EcrEBk5ToT8Vpg/oVu2UPyAAjDdXy48/FxS1WFu6hj8STHZmLAKCPxLwHGyOYXI/EBg1SkIlgD8UsJXfQ16UPx0au15hwJw/E3eRR+PIoj8Tp2+kEEijPxW+fpbtLKU/GqiyLqCVqT8eQBPEoc6tPx4ZW6KnZa4/ksTRrHptsj8VGtiQi820P5fQ+uqwhrY/lMg0bDfLsz8R7Lms0QOxPxrTzQ9XXKo/FYQaQtM8pT8ZSPZ0RZeoPxX9pWZ+1aQ/\",\"dtype\":\"float64\",\"order\":\"little\",\"shape\":[24]},\"DRUNKENNESS\":{\"__ndarray__\":\"HUBKltAFtT+G4yJ+Kje2P05quxvul7E/cq521BNvmz+SNop9nhWDP5I2in2eFXM/wO/YreqygD+9XIrgZtaaP+sV2RCzc5g/+9liZfhGlD9yrnbUE2+bP0T1J6TH0Z0/j6M7sBo5nT/4RhSYdGqePymTsZVE5KE/rytPWaXfpD+SNop9nhWjPzbE7BwG26c/vVyK4GbWqj+9XIrgZtaqP3iy5/ZoQLA/+EYUmHRqrj9w0KJMxlayP5anrNJvCrI/\",\"dtype\":\"float64\",\"order\":\"little\",\"shape\":[24]},\"HourOfDay\":[\"00\",\"01\",\"02\",\"03\",\"04\",\"05\",\"06\",\"07\",\"08\",\"09\",\"10\",\"11\",\"12\",\"13\",\"14\",\"15\",\"16\",\"17\",\"18\",\"19\",\"20\",\"21\",\"22\",\"23\"],\"LARCENY/THEFT\":{\"__ndarray__\":\"iaOw7pnCpj+cbZaVhvWaPzSOkogjQpA/C43cuyrGgz9ajj1O/fl5P04cs+K1CXo/yhlj7KEchD9GOeKpjiqQP0PM9ypvFJw/mQ2b1oJloD/z8teomzyjP03YFHu0E6Y/JWUN2rzkrD/7R/q1wc6pP8DoPbrccao/T2BRSrf/rT/ZodhS7UWvP/8di35ihrE/Wd6/bvuxtD8gDBuL5yuzP6gJBCwcfLA/bYBkBemIqz9J4LT+EmGsP+nmulhWPak/\",\"dtype\":\"float64\",\"order\":\"little\",\"shape\":[24]},\"PROSTITUTION\":{\"__ndarray__\":\"FIrsE4rswz8glvgflvi/PxOwiBKwiLI/FgLHFQLHpT8bzN8azN+aPxlUBRlUBYk/E7CIErCIgj8cCM0bCM17PxwIzRsIzXs/HoCnHYCnbT8akPIZkPJ5PxOwiBKwiHI/E+x1E+x1gz8T7HUT7HWDPxOwiBKwiII/FChjFChjdD8akPIZkPJ5PxPsdRPsdYM/EJo3EJo3oD8VZFAVZFC1Px+8lB68lK4/HFcIHFcIrD+ZSl6ZSl65P1MYZ1MYZ8M/\",\"dtype\":\"float64\",\"order\":\"little\",\"shape\":[24]},\"ROBBERY\":{\"__ndarray__\":\"5jSJPF3OrT9oHyrkE4GwP3aA4kpAXK4/CIB1fDcXoz/Hd3MxIcmWPwiAdXw3F5M/3tp2rpugkD9na/DA/1OMP0iu2rXDTpU/h9w/70+Glz8yuKVBjoKYP/FC1e0yKZ8/WJ1pUY5toT8NhxtVosSjP3g0HG5UiaI/1/kzxKbcpT9Irtq1w06lP2LRGPHZsag/vI+KbsFXqz9M2+N8pOWrP+Yb13deKrA/M5JCUxiZsj84Brc0yFGwP06PHaC4ErA/\",\"dtype\":\"float64\",\"order\":\"little\",\"shape\":[24]},\"STOLEN PROPERTY\":{\"__ndarray__\":\"70gXYnsWqD8tMFiVxJukP8l7u/+RZaE/ZdqgPowomT9GXb86UWmVPw7G+GW21Ys/axeZyA0hkT+FV4JCx+ecPw7G+GW21Zs/DrN2kYncoD8n4N02FqqhP4uUesxI4KQ/qhFc0IOfqD/Kjj3Uvl6sP/zoCx/Y+a0/I7igBz8xsD/Q3rcybVCvP/itTBvUh7E/i6f8oHXZrz/WG7C87kinP4uUesxI4KQ/ASYEqVnypT/cayobnTqqP0ZdvzpRaaU/\",\"dtype\":\"float64\",\"order\":\"little\",\"shape\":[24]},\"TRESPASS\":{\"__ndarray__\":\"lI2BaTnZmD9jLcHoN9aSPwpHwbWecJQ/hG1B6TjYlj+H2oHQbaiNP5f6wVBuqa8/Pq+RVuDzuj9fJbHI91WyPxXEId1TQaw/QrehdiB0qz9Kx8G2oHSsP0dagc9rpKU/hG1B6TjYpj/o0KFDhw6tPz9KYY/ro6Q/qFChQoUKpT+wYMGCBQumP+1zgZzSPqc/+iaBNZ5voj9sPeEouNajP4AAAQIECKA/pK3B6Tnamj/gwIEDBw6cP5SNgWk52Zg/\",\"dtype\":\"float64\",\"order\":\"little\",\"shape\":[24]},\"VANDALISM\":{\"__ndarray__\":\"cBcbb/uWsD+rvFl2CCmmP8jPd5DHuqQ/S4tQCaNymT9lgO/qgRKQP0uLUAmjcok/z59bO1Wojz8JAUvwyVeWP2HhcoUwj6A/ZGsMhEN3nT/Pn1s7VaifP5+kMMUdE54/KlqztgPvoj/iG07RmrWdP01QnYis5p8/InXspDdmpT+rvFl2CCmmP74QgZizIq4/gqb1EZ0csj8Bely1sV2xP2WA7+qBErA/yryPg2tCsT94Mu/j4JqwP5CDa0KRprA/\",\"dtype\":\"float64\",\"order\":\"little\",\"shape\":[24]},\"VEHICLE THEFT\":{\"__ndarray__\":\"e3FZt9ujoj8fptE8htGaP655wmNi7JQ/OPL3E/YVhj8vHcoz5RaFPw7JErOhGoE/6EwDhdjliz902eQLr6uVPyuZAV/7uqA/bQ4Nl7/6oD994XW1gmOeP/NoQAXvOZ0/9nzs2zHWpT/BnZCNTPiePxRXMfOsxKE/lPDiVw6hpT/dMMYEwpGqP5KzKSMqmrE/4obWxflbtT+YQUhjNUSyP0HRe18oY7M/b1BxgbQosz9jKt6VfIa1P5KzKSMqmrE/\",\"dtype\":\"float64\",\"order\":\"little\",\"shape\":[24]},\"WEAPON LAWS\":{\"__ndarray__\":\"hEIlUQ/yrT/g7th5iHKjP3g2GUUD5qE/48xtfGYHlj8faPoeaPqOP7j5FussSn4/GBgYGBgYiD8YGBgYGBiYP4EatE3ngJo/H2j6Hmj6nj9TH+y4hVKfP6pZUt2MhaA/FfCmFPCmpD8ZYvQYYvSoP348H0sJ7Kc/HECJG0CJqz9ENUuqm7GwP+z65IWUfq8/rO0K3yA+sj+rfsDdsfOwP4JkkE4xXas/5z67gNhUqj93x85DlJuwP348H0sJ7Kc/\",\"dtype\":\"float64\",\"order\":\"little\",\"shape\":[24]}},\"selected\":{\"id\":\"4035\"},\"selection_policy\":{\"id\":\"4034\"}},\"id\":\"3819\",\"type\":\"ColumnDataSource\"},{\"attributes\":{\"source\":{\"id\":\"3819\"}},\"id\":\"3876\",\"type\":\"CDSView\"},{\"attributes\":{\"fill_alpha\":{\"value\":1.9},\"fill_color\":{\"value\":\"#414487\"},\"hatch_color\":{\"value\":\"#414487\"},\"line_color\":{\"value\":\"#414487\"},\"top\":{\"field\":\"DRUG/NARCOTIC\"},\"width\":{\"value\":0.7},\"x\":{\"field\":\"HourOfDay\"}},\"id\":\"3878\",\"type\":\"VBar\"},{\"attributes\":{\"fill_alpha\":{\"value\":0.05},\"fill_color\":{\"value\":\"#414487\"},\"hatch_alpha\":{\"value\":0.05},\"hatch_color\":{\"value\":\"#414487\"},\"line_alpha\":{\"value\":0.05},\"line_color\":{\"value\":\"#414487\"},\"top\":{\"field\":\"DRUG/NARCOTIC\"},\"width\":{\"value\":0.7},\"x\":{\"field\":\"HourOfDay\"}},\"id\":\"3880\",\"type\":\"VBar\"},{\"attributes\":{\"fill_alpha\":{\"value\":0.1},\"fill_color\":{\"value\":\"#414487\"},\"hatch_alpha\":{\"value\":0.1},\"hatch_color\":{\"value\":\"#414487\"},\"line_alpha\":{\"value\":0.1},\"line_color\":{\"value\":\"#414487\"},\"top\":{\"field\":\"DRUG/NARCOTIC\"},\"width\":{\"value\":0.7},\"x\":{\"field\":\"HourOfDay\"}},\"id\":\"3879\",\"type\":\"VBar\"},{\"attributes\":{\"fill_alpha\":{\"value\":0.1},\"fill_color\":{\"value\":\"#3c4f8a\"},\"hatch_alpha\":{\"value\":0.1},\"hatch_color\":{\"value\":\"#3c4f8a\"},\"line_alpha\":{\"value\":0.1},\"line_color\":{\"value\":\"#3c4f8a\"},\"top\":{\"field\":\"DRUNKENNESS\"},\"width\":{\"value\":0.7},\"x\":{\"field\":\"HourOfDay\"}},\"id\":\"3885\",\"type\":\"VBar\"},{\"attributes\":{\"fill_alpha\":{\"value\":0.1},\"fill_color\":{\"value\":\"#1f9f88\"},\"hatch_alpha\":{\"value\":0.1},\"hatch_color\":{\"value\":\"#1f9f88\"},\"line_alpha\":{\"value\":0.1},\"line_color\":{\"value\":\"#1f9f88\"},\"top\":{\"field\":\"WEAPON LAWS\"},\"width\":{\"value\":0.7},\"x\":{\"field\":\"HourOfDay\"}},\"id\":\"3933\",\"type\":\"VBar\"},{\"attributes\":{\"coordinates\":null,\"data_source\":{\"id\":\"3819\"},\"glyph\":{\"id\":\"3908\"},\"group\":null,\"hover_glyph\":null,\"muted\":true,\"muted_glyph\":{\"id\":\"3910\"},\"nonselection_glyph\":{\"id\":\"3909\"},\"view\":{\"id\":\"3912\"}},\"id\":\"3911\",\"type\":\"GlyphRenderer\"},{\"attributes\":{\"source\":{\"id\":\"3819\"}},\"id\":\"3864\",\"type\":\"CDSView\"},{\"attributes\":{\"coordinates\":null,\"data_source\":{\"id\":\"3819\"},\"glyph\":{\"id\":\"3884\"},\"group\":null,\"hover_glyph\":null,\"muted\":true,\"muted_glyph\":{\"id\":\"3886\"},\"nonselection_glyph\":{\"id\":\"3885\"},\"view\":{\"id\":\"3888\"}},\"id\":\"3887\",\"type\":\"GlyphRenderer\"},{\"attributes\":{\"fill_alpha\":{\"value\":1.9},\"fill_color\":{\"value\":\"#3c4f8a\"},\"hatch_color\":{\"value\":\"#3c4f8a\"},\"line_color\":{\"value\":\"#3c4f8a\"},\"top\":{\"field\":\"DRUNKENNESS\"},\"width\":{\"value\":0.7},\"x\":{\"field\":\"HourOfDay\"}},\"id\":\"3884\",\"type\":\"VBar\"},{\"attributes\":{\"coordinates\":null,\"data_source\":{\"id\":\"3819\"},\"glyph\":{\"id\":\"3896\"},\"group\":null,\"hover_glyph\":null,\"muted\":true,\"muted_glyph\":{\"id\":\"3898\"},\"nonselection_glyph\":{\"id\":\"3897\"},\"view\":{\"id\":\"3900\"}},\"id\":\"3899\",\"type\":\"GlyphRenderer\"},{\"attributes\":{\"fill_alpha\":{\"value\":1.9},\"fill_color\":{\"value\":\"#472a7a\"},\"hatch_color\":{\"value\":\"#472a7a\"},\"line_color\":{\"value\":\"#472a7a\"},\"top\":{\"field\":\"DISORDERLY CONDUCT\"},\"width\":{\"value\":0.7},\"x\":{\"field\":\"HourOfDay\"}},\"id\":\"3866\",\"type\":\"VBar\"},{\"attributes\":{\"coordinates\":null,\"data_source\":{\"id\":\"3819\"},\"glyph\":{\"id\":\"3860\"},\"group\":null,\"hover_glyph\":null,\"muted\":true,\"muted_glyph\":{\"id\":\"3862\"},\"nonselection_glyph\":{\"id\":\"3861\"},\"view\":{\"id\":\"3864\"}},\"id\":\"3863\",\"type\":\"GlyphRenderer\"},{\"attributes\":{\"fill_alpha\":{\"value\":0.05},\"fill_color\":{\"value\":\"#481d6f\"},\"hatch_alpha\":{\"value\":0.05},\"hatch_color\":{\"value\":\"#481d6f\"},\"line_alpha\":{\"value\":0.05},\"line_color\":{\"value\":\"#481d6f\"},\"top\":{\"field\":\"BURGLARY\"},\"width\":{\"value\":0.7},\"x\":{\"field\":\"HourOfDay\"}},\"id\":\"3862\",\"type\":\"VBar\"},{\"attributes\":{\"fill_alpha\":{\"value\":0.05},\"fill_color\":{\"value\":\"#32648e\"},\"hatch_alpha\":{\"value\":0.05},\"hatch_color\":{\"value\":\"#32648e\"},\"line_alpha\":{\"value\":0.05},\"line_color\":{\"value\":\"#32648e\"},\"top\":{\"field\":\"PROSTITUTION\"},\"width\":{\"value\":0.7},\"x\":{\"field\":\"HourOfDay\"}},\"id\":\"3898\",\"type\":\"VBar\"},{\"attributes\":{\"source\":{\"id\":\"3819\"}},\"id\":\"3858\",\"type\":\"CDSView\"},{\"attributes\":{\"fill_alpha\":{\"value\":0.05},\"fill_color\":{\"value\":\"#375a8c\"},\"hatch_alpha\":{\"value\":0.05},\"hatch_color\":{\"value\":\"#375a8c\"},\"line_alpha\":{\"value\":0.05},\"line_color\":{\"value\":\"#375a8c\"},\"top\":{\"field\":\"LARCENY/THEFT\"},\"width\":{\"value\":0.7},\"x\":{\"field\":\"HourOfDay\"}},\"id\":\"3892\",\"type\":\"VBar\"},{\"attributes\":{\"fill_alpha\":{\"value\":0.05},\"fill_color\":{\"value\":\"#1f9f88\"},\"hatch_alpha\":{\"value\":0.05},\"hatch_color\":{\"value\":\"#1f9f88\"},\"line_alpha\":{\"value\":0.05},\"line_color\":{\"value\":\"#1f9f88\"},\"top\":{\"field\":\"WEAPON LAWS\"},\"width\":{\"value\":0.7},\"x\":{\"field\":\"HourOfDay\"}},\"id\":\"3934\",\"type\":\"VBar\"},{\"attributes\":{\"label\":{\"value\":\"DRUNKENNESS\"},\"renderers\":[{\"id\":\"3887\"}]},\"id\":\"3943\",\"type\":\"LegendItem\"},{\"attributes\":{\"click_policy\":\"mute\",\"coordinates\":null,\"group\":null,\"items\":[{\"id\":\"3938\"},{\"id\":\"3939\"},{\"id\":\"3940\"},{\"id\":\"3941\"},{\"id\":\"3942\"},{\"id\":\"3943\"},{\"id\":\"3944\"},{\"id\":\"3945\"},{\"id\":\"3946\"},{\"id\":\"3947\"},{\"id\":\"3948\"},{\"id\":\"3949\"},{\"id\":\"3950\"},{\"id\":\"3951\"}]},\"id\":\"3937\",\"type\":\"Legend\"},{\"attributes\":{\"source\":{\"id\":\"3819\"}},\"id\":\"3894\",\"type\":\"CDSView\"},{\"attributes\":{\"source\":{\"id\":\"3819\"}},\"id\":\"3936\",\"type\":\"CDSView\"},{\"attributes\":{\"fill_alpha\":{\"value\":0.1},\"fill_color\":{\"value\":\"#471063\"},\"hatch_alpha\":{\"value\":0.1},\"hatch_color\":{\"value\":\"#471063\"},\"line_alpha\":{\"value\":0.1},\"line_color\":{\"value\":\"#471063\"},\"top\":{\"field\":\"ASSAULT\"},\"width\":{\"value\":0.7},\"x\":{\"field\":\"HourOfDay\"}},\"id\":\"3855\",\"type\":\"VBar\"},{\"attributes\":{\"fill_alpha\":{\"value\":1.9},\"fill_color\":{\"value\":\"#471063\"},\"hatch_color\":{\"value\":\"#471063\"},\"line_color\":{\"value\":\"#471063\"},\"top\":{\"field\":\"ASSAULT\"},\"width\":{\"value\":0.7},\"x\":{\"field\":\"HourOfDay\"}},\"id\":\"3854\",\"type\":\"VBar\"},{\"attributes\":{\"fill_alpha\":{\"value\":0.1},\"fill_color\":{\"value\":\"#32648e\"},\"hatch_alpha\":{\"value\":0.1},\"hatch_color\":{\"value\":\"#32648e\"},\"line_alpha\":{\"value\":0.1},\"line_color\":{\"value\":\"#32648e\"},\"top\":{\"field\":\"PROSTITUTION\"},\"width\":{\"value\":0.7},\"x\":{\"field\":\"HourOfDay\"}},\"id\":\"3897\",\"type\":\"VBar\"},{\"attributes\":{\"fill_alpha\":{\"value\":0.05},\"fill_color\":{\"value\":\"#3c4f8a\"},\"hatch_alpha\":{\"value\":0.05},\"hatch_color\":{\"value\":\"#3c4f8a\"},\"line_alpha\":{\"value\":0.05},\"line_color\":{\"value\":\"#3c4f8a\"},\"top\":{\"field\":\"DRUNKENNESS\"},\"width\":{\"value\":0.7},\"x\":{\"field\":\"HourOfDay\"}},\"id\":\"3886\",\"type\":\"VBar\"},{\"attributes\":{\"fill_alpha\":{\"value\":1.9},\"fill_color\":{\"value\":\"#481d6f\"},\"hatch_color\":{\"value\":\"#481d6f\"},\"line_color\":{\"value\":\"#481d6f\"},\"top\":{\"field\":\"BURGLARY\"},\"width\":{\"value\":0.7},\"x\":{\"field\":\"HourOfDay\"}},\"id\":\"3860\",\"type\":\"VBar\"},{\"attributes\":{\"axis\":{\"id\":\"3835\"},\"coordinates\":null,\"dimension\":1,\"group\":null,\"ticker\":null},\"id\":\"3838\",\"type\":\"Grid\"},{\"attributes\":{\"fill_alpha\":{\"value\":0.05},\"fill_color\":{\"value\":\"#471063\"},\"hatch_alpha\":{\"value\":0.05},\"hatch_color\":{\"value\":\"#471063\"},\"line_alpha\":{\"value\":0.05},\"line_color\":{\"value\":\"#471063\"},\"top\":{\"field\":\"ASSAULT\"},\"width\":{\"value\":0.7},\"x\":{\"field\":\"HourOfDay\"}},\"id\":\"3856\",\"type\":\"VBar\"},{\"attributes\":{\"coordinates\":null,\"data_source\":{\"id\":\"3819\"},\"glyph\":{\"id\":\"3854\"},\"group\":null,\"hover_glyph\":null,\"muted\":true,\"muted_glyph\":{\"id\":\"3856\"},\"nonselection_glyph\":{\"id\":\"3855\"},\"view\":{\"id\":\"3858\"}},\"id\":\"3857\",\"type\":\"GlyphRenderer\"},{\"attributes\":{\"coordinates\":null,\"data_source\":{\"id\":\"3819\"},\"glyph\":{\"id\":\"3932\"},\"group\":null,\"hover_glyph\":null,\"muted\":true,\"muted_glyph\":{\"id\":\"3934\"},\"nonselection_glyph\":{\"id\":\"3933\"},\"view\":{\"id\":\"3936\"}},\"id\":\"3935\",\"type\":\"GlyphRenderer\"},{\"attributes\":{\"fill_alpha\":{\"value\":0.1},\"fill_color\":{\"value\":\"#472a7a\"},\"hatch_alpha\":{\"value\":0.1},\"hatch_color\":{\"value\":\"#472a7a\"},\"line_alpha\":{\"value\":0.1},\"line_color\":{\"value\":\"#472a7a\"},\"top\":{\"field\":\"DISORDERLY CONDUCT\"},\"width\":{\"value\":0.7},\"x\":{\"field\":\"HourOfDay\"}},\"id\":\"3867\",\"type\":\"VBar\"},{\"attributes\":{\"fill_alpha\":{\"value\":0.1},\"fill_color\":{\"value\":\"#481d6f\"},\"hatch_alpha\":{\"value\":0.1},\"hatch_color\":{\"value\":\"#481d6f\"},\"line_alpha\":{\"value\":0.1},\"line_color\":{\"value\":\"#481d6f\"},\"top\":{\"field\":\"BURGLARY\"},\"width\":{\"value\":0.7},\"x\":{\"field\":\"HourOfDay\"}},\"id\":\"3861\",\"type\":\"VBar\"},{\"attributes\":{\"source\":{\"id\":\"3819\"}},\"id\":\"3882\",\"type\":\"CDSView\"},{\"attributes\":{},\"id\":\"4029\",\"type\":\"BasicTickFormatter\"},{\"attributes\":{\"fill_alpha\":{\"value\":0.05},\"fill_color\":{\"value\":\"#472a7a\"},\"hatch_alpha\":{\"value\":0.05},\"hatch_color\":{\"value\":\"#472a7a\"},\"line_alpha\":{\"value\":0.05},\"line_color\":{\"value\":\"#472a7a\"},\"top\":{\"field\":\"DISORDERLY CONDUCT\"},\"width\":{\"value\":0.7},\"x\":{\"field\":\"HourOfDay\"}},\"id\":\"3868\",\"type\":\"VBar\"},{\"attributes\":{},\"id\":\"4030\",\"type\":\"AllLabels\"},{\"attributes\":{\"fill_alpha\":{\"value\":1.9},\"fill_color\":{\"value\":\"#32648e\"},\"hatch_color\":{\"value\":\"#32648e\"},\"line_color\":{\"value\":\"#32648e\"},\"top\":{\"field\":\"PROSTITUTION\"},\"width\":{\"value\":0.7},\"x\":{\"field\":\"HourOfDay\"}},\"id\":\"3896\",\"type\":\"VBar\"},{\"attributes\":{\"coordinates\":null,\"data_source\":{\"id\":\"3819\"},\"glyph\":{\"id\":\"3890\"},\"group\":null,\"hover_glyph\":null,\"muted\":true,\"muted_glyph\":{\"id\":\"3892\"},\"nonselection_glyph\":{\"id\":\"3891\"},\"view\":{\"id\":\"3894\"}},\"id\":\"3893\",\"type\":\"GlyphRenderer\"},{\"attributes\":{\"source\":{\"id\":\"3819\"}},\"id\":\"3906\",\"type\":\"CDSView\"},{\"attributes\":{\"fill_alpha\":{\"value\":1.9},\"fill_color\":{\"value\":\"#2e6f8e\"},\"hatch_color\":{\"value\":\"#2e6f8e\"},\"line_color\":{\"value\":\"#2e6f8e\"},\"top\":{\"field\":\"ROBBERY\"},\"width\":{\"value\":0.7},\"x\":{\"field\":\"HourOfDay\"}},\"id\":\"3902\",\"type\":\"VBar\"},{\"attributes\":{},\"id\":\"4032\",\"type\":\"CategoricalTickFormatter\"},{\"attributes\":{\"fill_alpha\":{\"value\":0.1},\"fill_color\":{\"value\":\"#2a788e\"},\"hatch_alpha\":{\"value\":0.1},\"hatch_color\":{\"value\":\"#2a788e\"},\"line_alpha\":{\"value\":0.1},\"line_color\":{\"value\":\"#2a788e\"},\"top\":{\"field\":\"STOLEN PROPERTY\"},\"width\":{\"value\":0.7},\"x\":{\"field\":\"HourOfDay\"}},\"id\":\"3909\",\"type\":\"VBar\"},{\"attributes\":{},\"id\":\"4033\",\"type\":\"AllLabels\"},{\"attributes\":{\"label\":{\"value\":\"DRUG/NARCOTIC\"},\"renderers\":[{\"id\":\"3881\"}]},\"id\":\"3942\",\"type\":\"LegendItem\"},{\"attributes\":{\"fill_alpha\":{\"value\":0.05},\"fill_color\":{\"value\":\"#2a788e\"},\"hatch_alpha\":{\"value\":0.05},\"hatch_color\":{\"value\":\"#2a788e\"},\"line_alpha\":{\"value\":0.05},\"line_color\":{\"value\":\"#2a788e\"},\"top\":{\"field\":\"STOLEN PROPERTY\"},\"width\":{\"value\":0.7},\"x\":{\"field\":\"HourOfDay\"}},\"id\":\"3910\",\"type\":\"VBar\"},{\"attributes\":{},\"id\":\"3833\",\"type\":\"CategoricalTicker\"},{\"attributes\":{\"label\":{\"value\":\"DRIVING UNDER THE INFLUENCE\"},\"renderers\":[{\"id\":\"3875\"}]},\"id\":\"3941\",\"type\":\"LegendItem\"},{\"attributes\":{\"fill_alpha\":{\"value\":1.9},\"fill_color\":{\"value\":\"#2a788e\"},\"hatch_color\":{\"value\":\"#2a788e\"},\"line_color\":{\"value\":\"#2a788e\"},\"top\":{\"field\":\"STOLEN PROPERTY\"},\"width\":{\"value\":0.7},\"x\":{\"field\":\"HourOfDay\"}},\"id\":\"3908\",\"type\":\"VBar\"},{\"attributes\":{},\"id\":\"4034\",\"type\":\"UnionRenderers\"},{\"attributes\":{\"source\":{\"id\":\"3819\"}},\"id\":\"3900\",\"type\":\"CDSView\"},{\"attributes\":{},\"id\":\"4035\",\"type\":\"Selection\"},{\"attributes\":{\"label\":{\"value\":\"BURGLARY\"},\"renderers\":[{\"id\":\"3863\"}]},\"id\":\"3939\",\"type\":\"LegendItem\"},{\"attributes\":{\"label\":{\"value\":\"ROBBERY\"},\"renderers\":[{\"id\":\"3905\"}]},\"id\":\"3946\",\"type\":\"LegendItem\"},{\"attributes\":{\"label\":{\"value\":\"ASSAULT\"},\"renderers\":[{\"id\":\"3857\"}]},\"id\":\"3938\",\"type\":\"LegendItem\"},{\"attributes\":{\"label\":{\"value\":\"DISORDERLY CONDUCT\"},\"renderers\":[{\"id\":\"3869\"}]},\"id\":\"3940\",\"type\":\"LegendItem\"},{\"attributes\":{\"coordinates\":null,\"data_source\":{\"id\":\"3819\"},\"glyph\":{\"id\":\"3902\"},\"group\":null,\"hover_glyph\":null,\"muted\":true,\"muted_glyph\":{\"id\":\"3904\"},\"nonselection_glyph\":{\"id\":\"3903\"},\"view\":{\"id\":\"3906\"}},\"id\":\"3905\",\"type\":\"GlyphRenderer\"},{\"attributes\":{\"source\":{\"id\":\"3819\"}},\"id\":\"3870\",\"type\":\"CDSView\"},{\"attributes\":{},\"id\":\"3830\",\"type\":\"LinearScale\"},{\"attributes\":{\"label\":{\"value\":\"VANDALISM\"},\"renderers\":[{\"id\":\"3923\"}]},\"id\":\"3949\",\"type\":\"LegendItem\"},{\"attributes\":{},\"id\":\"3844\",\"type\":\"HelpTool\"},{\"attributes\":{\"label\":{\"value\":\"VEHICLE THEFT\"},\"renderers\":[{\"id\":\"3929\"}]},\"id\":\"3950\",\"type\":\"LegendItem\"},{\"attributes\":{\"label\":{\"value\":\"WEAPON LAWS\"},\"renderers\":[{\"id\":\"3935\"}]},\"id\":\"3951\",\"type\":\"LegendItem\"},{\"attributes\":{\"fill_alpha\":{\"value\":1.9},\"fill_color\":{\"value\":\"#228b8d\"},\"hatch_color\":{\"value\":\"#228b8d\"},\"line_color\":{\"value\":\"#228b8d\"},\"top\":{\"field\":\"VANDALISM\"},\"width\":{\"value\":0.7},\"x\":{\"field\":\"HourOfDay\"}},\"id\":\"3920\",\"type\":\"VBar\"},{\"attributes\":{\"tools\":[{\"id\":\"3839\"},{\"id\":\"3840\"},{\"id\":\"3841\"},{\"id\":\"3842\"},{\"id\":\"3843\"},{\"id\":\"3844\"}]},\"id\":\"3846\",\"type\":\"Toolbar\"},{\"attributes\":{\"factors\":[\"00\",\"01\",\"02\",\"03\",\"04\",\"05\",\"06\",\"07\",\"08\",\"09\",\"10\",\"11\",\"12\",\"13\",\"14\",\"15\",\"16\",\"17\",\"18\",\"19\",\"20\",\"21\",\"22\",\"23\"]},\"id\":\"3824\",\"type\":\"FactorRange\"},{\"attributes\":{\"fill_alpha\":{\"value\":0.05},\"fill_color\":{\"value\":\"#26828e\"},\"hatch_alpha\":{\"value\":0.05},\"hatch_color\":{\"value\":\"#26828e\"},\"line_alpha\":{\"value\":0.05},\"line_color\":{\"value\":\"#26828e\"},\"top\":{\"field\":\"TRESPASS\"},\"width\":{\"value\":0.7},\"x\":{\"field\":\"HourOfDay\"}},\"id\":\"3916\",\"type\":\"VBar\"},{\"attributes\":{\"fill_alpha\":{\"value\":0.1},\"fill_color\":{\"value\":\"#228b8d\"},\"hatch_alpha\":{\"value\":0.1},\"hatch_color\":{\"value\":\"#228b8d\"},\"line_alpha\":{\"value\":0.1},\"line_color\":{\"value\":\"#228b8d\"},\"top\":{\"field\":\"VANDALISM\"},\"width\":{\"value\":0.7},\"x\":{\"field\":\"HourOfDay\"}},\"id\":\"3921\",\"type\":\"VBar\"},{\"attributes\":{\"axis\":{\"id\":\"3832\"},\"coordinates\":null,\"group\":null,\"ticker\":null},\"id\":\"3834\",\"type\":\"Grid\"},{\"attributes\":{},\"id\":\"3843\",\"type\":\"ResetTool\"},{\"attributes\":{\"label\":{\"value\":\"PROSTITUTION\"},\"renderers\":[{\"id\":\"3899\"}]},\"id\":\"3945\",\"type\":\"LegendItem\"},{\"attributes\":{},\"id\":\"3839\",\"type\":\"PanTool\"},{\"attributes\":{\"fill_alpha\":{\"value\":0.1},\"fill_color\":{\"value\":\"#26828e\"},\"hatch_alpha\":{\"value\":0.1},\"hatch_color\":{\"value\":\"#26828e\"},\"line_alpha\":{\"value\":0.1},\"line_color\":{\"value\":\"#26828e\"},\"top\":{\"field\":\"TRESPASS\"},\"width\":{\"value\":0.7},\"x\":{\"field\":\"HourOfDay\"}},\"id\":\"3915\",\"type\":\"VBar\"},{\"attributes\":{},\"id\":\"3826\",\"type\":\"DataRange1d\"},{\"attributes\":{\"coordinates\":null,\"data_source\":{\"id\":\"3819\"},\"glyph\":{\"id\":\"3914\"},\"group\":null,\"hover_glyph\":null,\"muted\":true,\"muted_glyph\":{\"id\":\"3916\"},\"nonselection_glyph\":{\"id\":\"3915\"},\"view\":{\"id\":\"3918\"}},\"id\":\"3917\",\"type\":\"GlyphRenderer\"},{\"attributes\":{},\"id\":\"3828\",\"type\":\"CategoricalScale\"},{\"attributes\":{\"fill_alpha\":{\"value\":1.9},\"fill_color\":{\"value\":\"#453781\"},\"hatch_color\":{\"value\":\"#453781\"},\"line_color\":{\"value\":\"#453781\"},\"top\":{\"field\":\"DRIVING UNDER THE INFLUENCE\"},\"width\":{\"value\":0.7},\"x\":{\"field\":\"HourOfDay\"}},\"id\":\"3872\",\"type\":\"VBar\"},{\"attributes\":{\"label\":{\"value\":\"TRESPASS\"},\"renderers\":[{\"id\":\"3917\"}]},\"id\":\"3948\",\"type\":\"LegendItem\"},{\"attributes\":{\"overlay\":{\"id\":\"3845\"}},\"id\":\"3841\",\"type\":\"BoxZoomTool\"},{\"attributes\":{\"label\":{\"value\":\"STOLEN PROPERTY\"},\"renderers\":[{\"id\":\"3911\"}]},\"id\":\"3947\",\"type\":\"LegendItem\"},{\"attributes\":{},\"id\":\"3836\",\"type\":\"BasicTicker\"},{\"attributes\":{\"axis_label\":\"Hour of the Day\",\"coordinates\":null,\"formatter\":{\"id\":\"4032\"},\"group\":null,\"major_label_policy\":{\"id\":\"4033\"},\"ticker\":{\"id\":\"3833\"}},\"id\":\"3832\",\"type\":\"CategoricalAxis\"},{\"attributes\":{\"fill_alpha\":{\"value\":0.05},\"fill_color\":{\"value\":\"#228b8d\"},\"hatch_alpha\":{\"value\":0.05},\"hatch_color\":{\"value\":\"#228b8d\"},\"line_alpha\":{\"value\":0.05},\"line_color\":{\"value\":\"#228b8d\"},\"top\":{\"field\":\"VANDALISM\"},\"width\":{\"value\":0.7},\"x\":{\"field\":\"HourOfDay\"}},\"id\":\"3922\",\"type\":\"VBar\"},{\"attributes\":{\"fill_alpha\":{\"value\":1.9},\"fill_color\":{\"value\":\"#1f958b\"},\"hatch_color\":{\"value\":\"#1f958b\"},\"line_color\":{\"value\":\"#1f958b\"},\"top\":{\"field\":\"VEHICLE THEFT\"},\"width\":{\"value\":0.7},\"x\":{\"field\":\"HourOfDay\"}},\"id\":\"3926\",\"type\":\"VBar\"},{\"attributes\":{\"coordinates\":null,\"group\":null,\"text\":\"Hourly Percentage by Category\"},\"id\":\"3822\",\"type\":\"Title\"},{\"attributes\":{\"fill_alpha\":{\"value\":0.05},\"fill_color\":{\"value\":\"#1f958b\"},\"hatch_alpha\":{\"value\":0.05},\"hatch_color\":{\"value\":\"#1f958b\"},\"line_alpha\":{\"value\":0.05},\"line_color\":{\"value\":\"#1f958b\"},\"top\":{\"field\":\"VEHICLE THEFT\"},\"width\":{\"value\":0.7},\"x\":{\"field\":\"HourOfDay\"}},\"id\":\"3928\",\"type\":\"VBar\"},{\"attributes\":{\"coordinates\":null,\"data_source\":{\"id\":\"3819\"},\"glyph\":{\"id\":\"3920\"},\"group\":null,\"hover_glyph\":null,\"muted\":true,\"muted_glyph\":{\"id\":\"3922\"},\"nonselection_glyph\":{\"id\":\"3921\"},\"view\":{\"id\":\"3924\"}},\"id\":\"3923\",\"type\":\"GlyphRenderer\"},{\"attributes\":{},\"id\":\"3842\",\"type\":\"SaveTool\"},{\"attributes\":{\"source\":{\"id\":\"3819\"}},\"id\":\"3924\",\"type\":\"CDSView\"},{\"attributes\":{},\"id\":\"3840\",\"type\":\"WheelZoomTool\"},{\"attributes\":{\"coordinates\":null,\"data_source\":{\"id\":\"3819\"},\"glyph\":{\"id\":\"3866\"},\"group\":null,\"hover_glyph\":null,\"muted\":true,\"muted_glyph\":{\"id\":\"3868\"},\"nonselection_glyph\":{\"id\":\"3867\"},\"view\":{\"id\":\"3870\"}},\"id\":\"3869\",\"type\":\"GlyphRenderer\"},{\"attributes\":{\"fill_alpha\":{\"value\":0.1},\"fill_color\":{\"value\":\"#1f958b\"},\"hatch_alpha\":{\"value\":0.1},\"hatch_color\":{\"value\":\"#1f958b\"},\"line_alpha\":{\"value\":0.1},\"line_color\":{\"value\":\"#1f958b\"},\"top\":{\"field\":\"VEHICLE THEFT\"},\"width\":{\"value\":0.7},\"x\":{\"field\":\"HourOfDay\"}},\"id\":\"3927\",\"type\":\"VBar\"},{\"attributes\":{\"fill_alpha\":{\"value\":1.9},\"fill_color\":{\"value\":\"#1f9f88\"},\"hatch_color\":{\"value\":\"#1f9f88\"},\"line_color\":{\"value\":\"#1f9f88\"},\"top\":{\"field\":\"WEAPON LAWS\"},\"width\":{\"value\":0.7},\"x\":{\"field\":\"HourOfDay\"}},\"id\":\"3932\",\"type\":\"VBar\"},{\"attributes\":{\"source\":{\"id\":\"3819\"}},\"id\":\"3912\",\"type\":\"CDSView\"},{\"attributes\":{\"fill_alpha\":{\"value\":0.1},\"fill_color\":{\"value\":\"#453781\"},\"hatch_alpha\":{\"value\":0.1},\"hatch_color\":{\"value\":\"#453781\"},\"line_alpha\":{\"value\":0.1},\"line_color\":{\"value\":\"#453781\"},\"top\":{\"field\":\"DRIVING UNDER THE INFLUENCE\"},\"width\":{\"value\":0.7},\"x\":{\"field\":\"HourOfDay\"}},\"id\":\"3873\",\"type\":\"VBar\"},{\"attributes\":{\"source\":{\"id\":\"3819\"}},\"id\":\"3918\",\"type\":\"CDSView\"},{\"attributes\":{\"fill_alpha\":{\"value\":1.9},\"fill_color\":{\"value\":\"#26828e\"},\"hatch_color\":{\"value\":\"#26828e\"},\"line_color\":{\"value\":\"#26828e\"},\"top\":{\"field\":\"TRESPASS\"},\"width\":{\"value\":0.7},\"x\":{\"field\":\"HourOfDay\"}},\"id\":\"3914\",\"type\":\"VBar\"},{\"attributes\":{\"source\":{\"id\":\"3819\"}},\"id\":\"3930\",\"type\":\"CDSView\"},{\"attributes\":{\"bottom_units\":\"screen\",\"coordinates\":null,\"fill_alpha\":0.5,\"fill_color\":\"lightgrey\",\"group\":null,\"left_units\":\"screen\",\"level\":\"overlay\",\"line_alpha\":1.0,\"line_color\":\"black\",\"line_dash\":[4,4],\"line_width\":2,\"right_units\":\"screen\",\"syncable\":false,\"top_units\":\"screen\"},\"id\":\"3845\",\"type\":\"BoxAnnotation\"},{\"attributes\":{\"label\":{\"value\":\"LARCENY/THEFT\"},\"renderers\":[{\"id\":\"3893\"}]},\"id\":\"3944\",\"type\":\"LegendItem\"},{\"attributes\":{\"coordinates\":null,\"formatter\":{\"id\":\"4029\"},\"group\":null,\"major_label_policy\":{\"id\":\"4030\"},\"ticker\":{\"id\":\"3836\"}},\"id\":\"3835\",\"type\":\"LinearAxis\"},{\"attributes\":{\"coordinates\":null,\"data_source\":{\"id\":\"3819\"},\"glyph\":{\"id\":\"3926\"},\"group\":null,\"hover_glyph\":null,\"muted\":true,\"muted_glyph\":{\"id\":\"3928\"},\"nonselection_glyph\":{\"id\":\"3927\"},\"view\":{\"id\":\"3930\"}},\"id\":\"3929\",\"type\":\"GlyphRenderer\"}],\"root_ids\":[\"3821\"]},\"title\":\"Bokeh Application\",\"version\":\"2.4.3\"}};\n  const render_items = [{\"docid\":\"ec94fbe7-4a71-4c20-a1b3-889a9417eed1\",\"root_ids\":[\"3821\"],\"roots\":{\"3821\":\"95b43351-d3e4-420d-ba89-ebcbd3be07ef\"}}];\n  root.Bokeh.embed.embed_items_notebook(docs_json, render_items);\n  }\n  if (root.Bokeh !== undefined) {\n    embed_document(root);\n  } else {\n    let attempts = 0;\n    const timer = setInterval(function(root) {\n      if (root.Bokeh !== undefined) {\n        clearInterval(timer);\n        embed_document(root);\n      } else {\n        attempts++;\n        if (attempts > 100) {\n          clearInterval(timer);\n          console.log(\"Bokeh: ERROR: Unable to run BokehJS code because BokehJS library is missing\");\n        }\n      }\n    }, 10, root)\n  }\n})(window);",
      "application/vnd.bokehjs_exec.v0+json": ""
     },
     "metadata": {
      "application/vnd.bokehjs_exec.v0+json": {
       "id": "3821"
      }
     },
     "output_type": "display_data"
    }
   ],
   "source": [
    "legend = Legend(items=items)\n",
    "p.add_layout(legend, 'left') \n",
    "p.legend.click_policy=\"mute\" \n",
    "#test\n",
    "### assigns the click policy (you can try to use ''hide'\n",
    "show(p)\n",
    "\n",
    "\n",
    "#displays your plot"
   ]
  }
 ],
 "metadata": {
  "kernelspec": {
   "display_name": "Python 3",
   "language": "python",
   "name": "python3"
  },
  "language_info": {
   "codemirror_mode": {
    "name": "ipython",
    "version": 3
   },
   "file_extension": ".py",
   "mimetype": "text/x-python",
   "name": "python",
   "nbconvert_exporter": "python",
   "pygments_lexer": "ipython3",
   "version": "3.9.12"
  },
  "orig_nbformat": 4
 },
 "nbformat": 4,
 "nbformat_minor": 2
}
